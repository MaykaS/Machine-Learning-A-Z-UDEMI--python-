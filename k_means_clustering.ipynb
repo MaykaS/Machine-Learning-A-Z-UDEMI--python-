{
  "nbformat": 4,
  "nbformat_minor": 0,
  "metadata": {
    "colab": {
      "name": "k_means_clustering.ipynb",
      "provenance": [],
      "include_colab_link": true
    },
    "kernelspec": {
      "name": "python3",
      "display_name": "Python 3"
    }
  },
  "cells": [
    {
      "cell_type": "markdown",
      "metadata": {
        "id": "view-in-github",
        "colab_type": "text"
      },
      "source": [
        "<a href=\"https://colab.research.google.com/github/MaykaS/Machine-Learning-A-Z-in-python-UDEMI-/blob/part4---Clustering/k_means_clustering.ipynb\" target=\"_parent\"><img src=\"https://colab.research.google.com/assets/colab-badge.svg\" alt=\"Open In Colab\"/></a>"
      ]
    },
    {
      "cell_type": "markdown",
      "metadata": {
        "id": "i_paGd_yLbgH",
        "colab_type": "text"
      },
      "source": [
        "# K-Means Clustering"
      ]
    },
    {
      "cell_type": "markdown",
      "metadata": {
        "id": "nAuqPwTnLipr",
        "colab_type": "text"
      },
      "source": [
        "## Importing the libraries"
      ]
    },
    {
      "cell_type": "code",
      "metadata": {
        "id": "yUXGcC4KLmcL",
        "colab_type": "code",
        "colab": {}
      },
      "source": [
        "import numpy as np\n",
        "import matplotlib.pyplot as plt\n",
        "import pandas as pd"
      ],
      "execution_count": 1,
      "outputs": []
    },
    {
      "cell_type": "markdown",
      "metadata": {
        "id": "5LciKOr8Lo5O",
        "colab_type": "text"
      },
      "source": [
        "## Importing the dataset"
      ]
    },
    {
      "cell_type": "code",
      "metadata": {
        "id": "9RlmPzZGLtGi",
        "colab_type": "code",
        "colab": {}
      },
      "source": [
        "dataset = pd.read_csv('Mall_Customers.csv')\n",
        "X = dataset.iloc[:, [3, 4]].values #only two columns\n",
        "#identify the patterns - coustomerID, Age are unrelevant "
      ],
      "execution_count": 2,
      "outputs": []
    },
    {
      "cell_type": "markdown",
      "metadata": {
        "id": "nWC2EWp2Lx5G",
        "colab_type": "text"
      },
      "source": [
        "## Using the elbow method to find the optimal number of clusters"
      ]
    },
    {
      "cell_type": "code",
      "metadata": {
        "id": "rPeglOXCDVS1",
        "colab_type": "code",
        "colab": {
          "base_uri": "https://localhost:8080/",
          "height": 295
        },
        "outputId": "1d032879-f63b-47f3-81e8-9b616df0f989"
      },
      "source": [
        "from sklearn.cluster import KMeans\n",
        "#create a list to wcss\n",
        "wcss = []\n",
        "#creating 10 Kmean objects\n",
        "for i in range(1,11):\n",
        "  kmeans = KMeans(n_clusters = i, init = 'k-means++', random_state = 42)\n",
        "  #tip - to avoid random init trap - kmeans++ method\n",
        "  #the random_state num is not important - can choose any num\n",
        "  kmeans.fit(X)\n",
        "  #adding wcss val computed for i clusters\n",
        "  #sum of squ distances between cluster and center \n",
        "  wcss.append(kmeans.inertia_) \n",
        "#plot the graph\n",
        "plt.plot(range(1,11), wcss)\n",
        "plt.title('The Elobow Method')\n",
        "plt.xlabel('clusters')\n",
        "plt.ylabel('wcss')\n",
        "plt.show()"
      ],
      "execution_count": 4,
      "outputs": [
        {
          "output_type": "display_data",
          "data": {
            "image/png": "[encoded data removed]",
            "text/plain": [
              "<Figure size 432x288 with 1 Axes>"
            ]
          },
          "metadata": {
            "tags": [],
            "needs_background": "light"
          }
        }
      ]
    },
    {
      "cell_type": "markdown",
      "metadata": {
        "id": "VgT0mANLL4Nz",
        "colab_type": "text"
      },
      "source": [
        "## Training the K-Means model on the dataset"
      ]
    },
    {
      "cell_type": "code",
      "metadata": {
        "id": "KIVRTaZ1G1oa",
        "colab_type": "code",
        "colab": {
          "base_uri": "https://localhost:8080/",
          "height": 119
        },
        "outputId": "aa89098c-892f-4430-8c54-706ad1d14072"
      },
      "source": [
        "#optimal num = 5 (according to the graph above)\n",
        "kmeans = KMeans(n_clusters = 5, init = 'k-means++', random_state = 42)\n",
        "y_kmeans = kmeans.fit_predict(X)\n",
        "#build the dependet var (1,2,3,4,5) = the predict returns that\n",
        "print(y_kmeans)"
      ],
      "execution_count": 6,
      "outputs": [
        {
          "output_type": "stream",
          "text": [
            "[3 0 3 0 3 0 3 0 3 0 3 0 3 0 3 0 3 0 3 0 3 0 3 0 3 0 3 0 3 0 3 0 3 0 3 0 3\n",
            " 0 3 0 3 0 3 1 3 0 1 1 1 1 1 1 1 1 1 1 1 1 1 1 1 1 1 1 1 1 1 1 1 1 1 1 1 1\n",
            " 1 1 1 1 1 1 1 1 1 1 1 1 1 1 1 1 1 1 1 1 1 1 1 1 1 1 1 1 1 1 1 1 1 1 1 1 1\n",
            " 1 1 1 1 1 1 1 1 1 1 1 1 2 4 2 1 2 4 2 4 2 1 2 4 2 4 2 4 2 4 2 1 2 4 2 4 2\n",
            " 4 2 4 2 4 2 4 2 4 2 4 2 4 2 4 2 4 2 4 2 4 2 4 2 4 2 4 2 4 2 4 2 4 2 4 2 4\n",
            " 2 4 2 4 2 4 2 4 2 4 2 4 2 4 2]\n"
          ],
          "name": "stdout"
        }
      ]
    },
    {
      "cell_type": "markdown",
      "metadata": {
        "id": "e7YrS1JAMFnm",
        "colab_type": "text"
      },
      "source": [
        "## Visualising the clusters"
      ]
    },
    {
      "cell_type": "code",
      "metadata": {
        "id": "V-Wl6o8bHq7r",
        "colab_type": "code",
        "colab": {
          "base_uri": "https://localhost:8080/",
          "height": 282
        },
        "outputId": "51e7a004-3b6b-4d34-8518-84a11d6e1936"
      },
      "source": [
        "#scatter for every clustter\n",
        "#rows of customers that belong to that cluster\n",
        "plt.scatter(X[y_kmeans ==0, 0], X[y_kmeans ==0, 1], s = 100, c = 'red', label='cluster1' )\n",
        "plt.scatter(X[y_kmeans ==1, 0], X[y_kmeans ==1, 1], s = 100, c = 'blue', label='cluster2' )\n",
        "plt.scatter(X[y_kmeans ==2, 0], X[y_kmeans ==2, 1], s = 100, c = 'yellow', label='cluster3' )\n",
        "plt.scatter(X[y_kmeans ==3, 0], X[y_kmeans ==3, 1], s = 100, c = 'green', label='cluster4' )\n",
        "plt.scatter(X[y_kmeans ==4, 0], X[y_kmeans ==4, 1], s = 100, c = 'magenta', label='cluster5' )\n",
        "#plot the center of each cluster\n",
        "plt.scatter(kmeans.cluster_centers_[:, 0], kmeans.cluster_centers_[:, 1], s = 300, color ='black', label = 'Centroids')"
      ],
      "execution_count": 10,
      "outputs": [
        {
          "output_type": "execute_result",
          "data": {
            "text/plain": [
              "<matplotlib.collections.PathCollection at 0x7fa6cc69bdd8>"
            ]
          },
          "metadata": {
            "tags": []
          },
          "execution_count": 10
        },
        {
          "output_type": "display_data",
          "data": {
            "image/png": "[encoded data removed]",
            "text/plain": [
              "<Figure size 432x288 with 1 Axes>"
            ]
          },
          "metadata": {
            "tags": [],
            "needs_background": "light"
          }
        }
      ]
    }
  ]
}