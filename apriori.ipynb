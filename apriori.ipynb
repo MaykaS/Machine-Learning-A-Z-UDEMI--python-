{
  "nbformat": 4,
  "nbformat_minor": 0,
  "metadata": {
    "colab": {
      "name": "apriori.ipynb",
      "provenance": [],
      "collapsed_sections": [],
      "include_colab_link": true
    },
    "kernelspec": {
      "name": "python3",
      "display_name": "Python 3"
    }
  },
  "cells": [
    {
      "cell_type": "markdown",
      "metadata": {
        "id": "view-in-github",
        "colab_type": "text"
      },
      "source": [
        "<a href=\"https://colab.research.google.com/github/MaykaS/Machine-Learning-A-Z-UDEMI--python-/blob/part5--Assiciation-Rule-Learning/apriori.ipynb\" target=\"_parent\"><img src=\"https://colab.research.google.com/assets/colab-badge.svg\" alt=\"Open In Colab\"/></a>"
      ]
    },
    {
      "cell_type": "markdown",
      "metadata": {
        "id": "1fziHl7Ar94J",
        "colab_type": "text"
      },
      "source": [
        "# Apriori"
      ]
    },
    {
      "cell_type": "markdown",
      "metadata": {
        "id": "eiNwni1xsEgT",
        "colab_type": "text"
      },
      "source": [
        "## Importing the libraries"
      ]
    },
    {
      "cell_type": "code",
      "metadata": {
        "id": "DUF77Qr1vqyM",
        "colab_type": "code",
        "colab": {
          "base_uri": "https://localhost:8080/",
          "height": 190
        },
        "outputId": "a07b964c-f4bc-421f-e7f3-83b1a611a9e1"
      },
      "source": [
        "#persone who got this also got....\n",
        "!pip install apyori "
      ],
      "execution_count": 1,
      "outputs": [
        {
          "output_type": "stream",
          "text": [
            "Collecting apyori\n",
            "  Downloading https://files.pythonhosted.org/packages/5e/62/5ffde5c473ea4b033490617ec5caa80d59804875ad3c3c57c0976533a21a/apyori-1.1.2.tar.gz\n",
            "Building wheels for collected packages: apyori\n",
            "  Building wheel for apyori (setup.py) ... \u001b[?25l\u001b[?25hdone\n",
            "  Created wheel for apyori: filename=apyori-1.1.2-cp36-none-any.whl size=5975 sha256=8db634e838af44608df2914f7374a5fd454ded74dcb460d9264f626bf5387e0d\n",
            "  Stored in directory: /root/.cache/pip/wheels/5d/92/bb/474bbadbc8c0062b9eb168f69982a0443263f8ab1711a8cad0\n",
            "Successfully built apyori\n",
            "Installing collected packages: apyori\n",
            "Successfully installed apyori-1.1.2\n"
          ],
          "name": "stdout"
        }
      ]
    },
    {
      "cell_type": "code",
      "metadata": {
        "id": "UJfitBClsJlT",
        "colab_type": "code",
        "colab": {}
      },
      "source": [
        "import numpy as np\n",
        "import matplotlib.pyplot as plt\n",
        "import pandas as pd"
      ],
      "execution_count": 2,
      "outputs": []
    },
    {
      "cell_type": "markdown",
      "metadata": {
        "id": "vLt-7XUKsXBd",
        "colab_type": "text"
      },
      "source": [
        "## Data Preprocessing"
      ]
    },
    {
      "cell_type": "code",
      "metadata": {
        "id": "J_A-UFOAsaDf",
        "colab_type": "code",
        "colab": {}
      },
      "source": [
        "dataset = pd.read_csv('Market_Basket_Optimisation.csv', header = None) #no titles\n",
        "transactions = []\n",
        "for i in range(0,7051):\n",
        "  transactions.append([str(dataset.values[i,j]) for j in range(0, 20)]) #iterate on all of the products\n",
        "#elemens must be strings - for training\n",
        "#one row for loop"
      ],
      "execution_count": 5,
      "outputs": []
    },
    {
      "cell_type": "markdown",
      "metadata": {
        "id": "1wYZdBd5sea_",
        "colab_type": "text"
      },
      "source": [
        "## Training the Apriori model on the dataset"
      ]
    },
    {
      "cell_type": "code",
      "metadata": {
        "id": "EfldjMgJnX3L",
        "colab_type": "code",
        "colab": {}
      },
      "source": [
        "from apyori import apriori\n",
        "rules = apriori(transactions = transactions, min_support = 0.003, min_confidence = 0.2, min_lift = 3, min_length = 2, max_length = 2)\n",
        "#support = (3*7)/7051 = most wanted stuff\n",
        "#min_confidence - role of tumb\n",
        "#min_lift >=3 - role of tumb\n",
        "#length = num of products for best deals (1+1 free)"
      ],
      "execution_count": 8,
      "outputs": []
    },
    {
      "cell_type": "markdown",
      "metadata": {
        "id": "b176YNwWspiO",
        "colab_type": "text"
      },
      "source": [
        "\n",
        "## Visualising the results"
      ]
    },
    {
      "cell_type": "markdown",
      "metadata": {
        "id": "iO6bF_dImT-E",
        "colab_type": "text"
      },
      "source": [
        "### Displaying the first results coming directly from the output of the apriori function"
      ]
    },
    {
      "cell_type": "code",
      "metadata": {
        "id": "NY-PfsqQqA5L",
        "colab_type": "code",
        "colab": {
          "base_uri": "https://localhost:8080/",
          "height": 224
        },
        "outputId": "fac93562-c680-40e9-ea54-ea15065dc8d0"
      },
      "source": [
        "results = list(rules)\n",
        "results"
      ],
      "execution_count": 9,
      "outputs": [
        {
          "output_type": "execute_result",
          "data": {
            "text/plain": [
              "[RelationRecord(items=frozenset({'burgers', 'almonds'}), support=0.005531130336122536, ordered_statistics=[OrderedStatistic(items_base=frozenset({'almonds'}), items_add=frozenset({'burgers'}), confidence=0.2671232876712329, lift=3.102942835864684)]),\n",
              " RelationRecord(items=frozenset({'chicken', 'light cream'}), support=0.004396539497943554, ordered_statistics=[OrderedStatistic(items_base=frozenset({'light cream'}), items_add=frozenset({'chicken'}), confidence=0.28703703703703703, lift=4.73980830948044)]),\n",
              " RelationRecord(items=frozenset({'mushroom cream sauce', 'escalope'}), support=0.005814778045667281, ordered_statistics=[OrderedStatistic(items_base=frozenset({'mushroom cream sauce'}), items_add=frozenset({'escalope'}), confidence=0.30597014925373134, lift=3.8593837609804287)]),\n",
              " RelationRecord(items=frozenset({'pasta', 'escalope'}), support=0.00524748262657779, ordered_statistics=[OrderedStatistic(items_base=frozenset({'pasta'}), items_add=frozenset({'escalope'}), confidence=0.3737373737373737, lift=4.714172132776784)]),\n",
              " RelationRecord(items=frozenset({'honey', 'fromage blanc'}), support=0.0035455963693093178, ordered_statistics=[OrderedStatistic(items_base=frozenset({'fromage blanc'}), items_add=frozenset({'honey'}), confidence=0.27777777777777773, lift=5.726933073424301)]),\n",
              " RelationRecord(items=frozenset({'parmesan cheese', 'frozen vegetables'}), support=0.005389306481350163, ordered_statistics=[OrderedStatistic(items_base=frozenset({'parmesan cheese'}), items_add=frozenset({'frozen vegetables'}), confidence=0.2900763358778626, lift=3.048179201601802)]),\n",
              " RelationRecord(items=frozenset({'herb & pepper', 'ground beef'}), support=0.015742447879733373, ordered_statistics=[OrderedStatistic(items_base=frozenset({'herb & pepper'}), items_add=frozenset({'ground beef'}), confidence=0.3226744186046512, lift=3.2689329390537294)]),\n",
              " RelationRecord(items=frozenset({'tomato sauce', 'ground beef'}), support=0.00524748262657779, ordered_statistics=[OrderedStatistic(items_base=frozenset({'tomato sauce'}), items_add=frozenset({'ground beef'}), confidence=0.3737373737373737, lift=3.786238825031928)]),\n",
              " RelationRecord(items=frozenset({'olive oil', 'light cream'}), support=0.0032619486597645726, ordered_statistics=[OrderedStatistic(items_base=frozenset({'light cream'}), items_add=frozenset({'olive oil'}), confidence=0.21296296296296297, lift=3.222321570497536)]),\n",
              " RelationRecord(items=frozenset({'olive oil', 'whole wheat pasta'}), support=0.007658488157708127, ordered_statistics=[OrderedStatistic(items_base=frozenset({'whole wheat pasta'}), items_add=frozenset({'olive oil'}), confidence=0.2621359223300971, lift=3.9663527646985286)]),\n",
              " RelationRecord(items=frozenset({'shrimp', 'pasta'}), support=0.0035455963693093178, ordered_statistics=[OrderedStatistic(items_base=frozenset({'pasta'}), items_add=frozenset({'shrimp'}), confidence=0.2525252525252525, lift=3.491285403050108)])]"
            ]
          },
          "metadata": {
            "tags": []
          },
          "execution_count": 9
        }
      ]
    },
    {
      "cell_type": "markdown",
      "metadata": {
        "id": "MFkQP-fcjDBC",
        "colab_type": "text"
      },
      "source": [
        "### Putting the results well organised into a Pandas DataFrame"
      ]
    },
    {
      "cell_type": "code",
      "metadata": {
        "id": "I_idquI5rLlL",
        "colab_type": "code",
        "colab": {}
      },
      "source": [
        "def inspect(results):\n",
        "    lhs         = [tuple(result[2][0][0])[0] for result in results] #left\n",
        "    rhs         = [tuple(result[2][0][1])[0] for result in results] #right\n",
        "    supports    = [result[1] for result in results]\n",
        "    confidences = [result[2][0][2] for result in results]\n",
        "    lifts       = [result[2][0][3] for result in results]\n",
        "    return list(zip(lhs, rhs, supports, confidences, lifts))\n",
        "resultsinDataFrame = pd.DataFrame(inspect(results), columns = ['Left Hand Side', 'Right Hand Side', 'Support', 'Confidence', 'Lift'])"
      ],
      "execution_count": 10,
      "outputs": []
    },
    {
      "cell_type": "markdown",
      "metadata": {
        "id": "Pfn-G1eAjjLz",
        "colab_type": "text"
      },
      "source": [
        "### Displaying the results non sorted"
      ]
    },
    {
      "cell_type": "code",
      "metadata": {
        "id": "Jcd42YSKsQhL",
        "colab_type": "code",
        "colab": {
          "base_uri": "https://localhost:8080/",
          "height": 221
        },
        "outputId": "cbc18f2f-8bcb-4c06-b41d-a717acab64c7"
      },
      "source": [
        "print(resultsinDataFrame)"
      ],
      "execution_count": 12,
      "outputs": [
        {
          "output_type": "stream",
          "text": [
            "          Left Hand Side    Right Hand Side   Support  Confidence      Lift\n",
            "0                almonds            burgers  0.005531    0.267123  3.102943\n",
            "1            light cream            chicken  0.004397    0.287037  4.739808\n",
            "2   mushroom cream sauce           escalope  0.005815    0.305970  3.859384\n",
            "3                  pasta           escalope  0.005247    0.373737  4.714172\n",
            "4          fromage blanc              honey  0.003546    0.277778  5.726933\n",
            "5        parmesan cheese  frozen vegetables  0.005389    0.290076  3.048179\n",
            "6          herb & pepper        ground beef  0.015742    0.322674  3.268933\n",
            "7           tomato sauce        ground beef  0.005247    0.373737  3.786239\n",
            "8            light cream          olive oil  0.003262    0.212963  3.222322\n",
            "9      whole wheat pasta          olive oil  0.007658    0.262136  3.966353\n",
            "10                 pasta             shrimp  0.003546    0.252525  3.491285\n"
          ],
          "name": "stdout"
        }
      ]
    },
    {
      "cell_type": "markdown",
      "metadata": {
        "id": "IjrrlYW4jpTR",
        "colab_type": "text"
      },
      "source": [
        "### Displaying the results sorted by descending lifts"
      ]
    },
    {
      "cell_type": "code",
      "metadata": {
        "id": "RyCNqy0gsSRA",
        "colab_type": "code",
        "colab": {
          "base_uri": "https://localhost:8080/",
          "height": 359
        },
        "outputId": "dc321ee9-a8d9-4c4f-fb30-d4d297ea5783"
      },
      "source": [
        "resultsinDataFrame.nlargest(n = 10, columns = 'Lift')"
      ],
      "execution_count": 13,
      "outputs": [
        {
          "output_type": "execute_result",
          "data": {
            "text/html": [
              "<div>\n",
              "<style scoped>\n",
              "    .dataframe tbody tr th:only-of-type {\n",
              "        vertical-align: middle;\n",
              "    }\n",
              "\n",
              "    .dataframe tbody tr th {\n",
              "        vertical-align: top;\n",
              "    }\n",
              "\n",
              "    .dataframe thead th {\n",
              "        text-align: right;\n",
              "    }\n",
              "</style>\n",
              "<table border=\"1\" class=\"dataframe\">\n",
              "  <thead>\n",
              "    <tr style=\"text-align: right;\">\n",
              "      <th></th>\n",
              "      <th>Left Hand Side</th>\n",
              "      <th>Right Hand Side</th>\n",
              "      <th>Support</th>\n",
              "      <th>Confidence</th>\n",
              "      <th>Lift</th>\n",
              "    </tr>\n",
              "  </thead>\n",
              "  <tbody>\n",
              "    <tr>\n",
              "      <th>4</th>\n",
              "      <td>fromage blanc</td>\n",
              "      <td>honey</td>\n",
              "      <td>0.003546</td>\n",
              "      <td>0.277778</td>\n",
              "      <td>5.726933</td>\n",
              "    </tr>\n",
              "    <tr>\n",
              "      <th>1</th>\n",
              "      <td>light cream</td>\n",
              "      <td>chicken</td>\n",
              "      <td>0.004397</td>\n",
              "      <td>0.287037</td>\n",
              "      <td>4.739808</td>\n",
              "    </tr>\n",
              "    <tr>\n",
              "      <th>3</th>\n",
              "      <td>pasta</td>\n",
              "      <td>escalope</td>\n",
              "      <td>0.005247</td>\n",
              "      <td>0.373737</td>\n",
              "      <td>4.714172</td>\n",
              "    </tr>\n",
              "    <tr>\n",
              "      <th>9</th>\n",
              "      <td>whole wheat pasta</td>\n",
              "      <td>olive oil</td>\n",
              "      <td>0.007658</td>\n",
              "      <td>0.262136</td>\n",
              "      <td>3.966353</td>\n",
              "    </tr>\n",
              "    <tr>\n",
              "      <th>2</th>\n",
              "      <td>mushroom cream sauce</td>\n",
              "      <td>escalope</td>\n",
              "      <td>0.005815</td>\n",
              "      <td>0.305970</td>\n",
              "      <td>3.859384</td>\n",
              "    </tr>\n",
              "    <tr>\n",
              "      <th>7</th>\n",
              "      <td>tomato sauce</td>\n",
              "      <td>ground beef</td>\n",
              "      <td>0.005247</td>\n",
              "      <td>0.373737</td>\n",
              "      <td>3.786239</td>\n",
              "    </tr>\n",
              "    <tr>\n",
              "      <th>10</th>\n",
              "      <td>pasta</td>\n",
              "      <td>shrimp</td>\n",
              "      <td>0.003546</td>\n",
              "      <td>0.252525</td>\n",
              "      <td>3.491285</td>\n",
              "    </tr>\n",
              "    <tr>\n",
              "      <th>6</th>\n",
              "      <td>herb &amp; pepper</td>\n",
              "      <td>ground beef</td>\n",
              "      <td>0.015742</td>\n",
              "      <td>0.322674</td>\n",
              "      <td>3.268933</td>\n",
              "    </tr>\n",
              "    <tr>\n",
              "      <th>8</th>\n",
              "      <td>light cream</td>\n",
              "      <td>olive oil</td>\n",
              "      <td>0.003262</td>\n",
              "      <td>0.212963</td>\n",
              "      <td>3.222322</td>\n",
              "    </tr>\n",
              "    <tr>\n",
              "      <th>0</th>\n",
              "      <td>almonds</td>\n",
              "      <td>burgers</td>\n",
              "      <td>0.005531</td>\n",
              "      <td>0.267123</td>\n",
              "      <td>3.102943</td>\n",
              "    </tr>\n",
              "  </tbody>\n",
              "</table>\n",
              "</div>"
            ],
            "text/plain": [
              "          Left Hand Side Right Hand Side   Support  Confidence      Lift\n",
              "4          fromage blanc           honey  0.003546    0.277778  5.726933\n",
              "1            light cream         chicken  0.004397    0.287037  4.739808\n",
              "3                  pasta        escalope  0.005247    0.373737  4.714172\n",
              "9      whole wheat pasta       olive oil  0.007658    0.262136  3.966353\n",
              "2   mushroom cream sauce        escalope  0.005815    0.305970  3.859384\n",
              "7           tomato sauce     ground beef  0.005247    0.373737  3.786239\n",
              "10                 pasta          shrimp  0.003546    0.252525  3.491285\n",
              "6          herb & pepper     ground beef  0.015742    0.322674  3.268933\n",
              "8            light cream       olive oil  0.003262    0.212963  3.222322\n",
              "0                almonds         burgers  0.005531    0.267123  3.102943"
            ]
          },
          "metadata": {
            "tags": []
          },
          "execution_count": 13
        }
      ]
    }
  ]
}